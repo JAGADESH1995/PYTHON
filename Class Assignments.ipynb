{
 "cells": [
  {
   "cell_type": "code",
   "execution_count": 5,
   "id": "8e343951",
   "metadata": {},
   "outputs": [],
   "source": [
    "class multipleFunctions():\n",
    "    def SubfieldsInAI():\n",
    "        print(\"Subfields in AI are:\")\n",
    "        list=[\"Machine Learning\",\"Neural Networks\",\"Vision\",\"Robotics\",\"Speech Processing\",\"Natural Language Processing\"]\n",
    "        for temp in list:\n",
    "            print(temp)\n",
    "            \n",
    "    def oddeven():\n",
    "        num=int(input(\"Enter the Number\"))\n",
    "        if(num%2==0):\n",
    "            print(num,\"is Even Number\")\n",
    "        else:\n",
    "            print(num, \"is Odd Number\")\n",
    "            \n",
    "    def EligiblityForMarriage():\n",
    "        gender=input(\"Gender=\")\n",
    "        age=int(input(\"Age=\"))\n",
    "        if(gender=='male' and age>=21):\n",
    "            print(\"Eligible\")\n",
    "        elif(gender=='female' and age>=18):\n",
    "            print(\"Eligible\")\n",
    "        else:\n",
    "            print(\"Not eligible\")\n",
    "            \n",
    "    def Percentage():\n",
    "        sub1=int(input(\"subject1= \"))\n",
    "        sub2=int(input(\"subject2= \"))\n",
    "        sub3=int(input(\"subject3= \"))\n",
    "        sub4=int(input(\"subject4= \"))\n",
    "        sub5=int(input(\"subject5= \"))\n",
    "        total=sub1+sub2+sub3+sub4+sub5\n",
    "        print(\"Total:\",total)\n",
    "        per=total/500*100\n",
    "        percentage=per\n",
    "        return percentage\n",
    "   \n",
    "    def triangle():\n",
    "        height=int(input(\"Height:\"))\n",
    "        breadth=int(input(\"Breadth:\"))\n",
    "        area=(height*breadth)/2\n",
    "        print(\"Area of Triangle:\",area)\n",
    "        height1=int(input(\"Height1:\"))\n",
    "        height2=int(input(\"Height2:\"))\n",
    "        breadth=int(input(\"Breadth:\"))\n",
    "        perimeter=height1+height2+breadth\n",
    "        print(\"Perimeter of Triangle:\",perimeter)"
   ]
  },
  {
   "cell_type": "code",
   "execution_count": 7,
   "id": "c2cca821",
   "metadata": {},
   "outputs": [
    {
     "name": "stdout",
     "output_type": "stream",
     "text": [
      "subject1= 98\n",
      "subject2= 87\n",
      "subject3= 95\n",
      "subject4= 95\n",
      "subject5= 93\n",
      "Total: 468\n"
     ]
    },
    {
     "data": {
      "text/plain": [
       "93.60000000000001"
      ]
     },
     "execution_count": 7,
     "metadata": {},
     "output_type": "execute_result"
    }
   ],
   "source": [
    "multipleFunctions.Percentage()"
   ]
  },
  {
   "cell_type": "code",
   "execution_count": null,
   "id": "52a25ea4",
   "metadata": {},
   "outputs": [],
   "source": []
  }
 ],
 "metadata": {
  "kernelspec": {
   "display_name": "Python 3 (ipykernel)",
   "language": "python",
   "name": "python3"
  },
  "language_info": {
   "codemirror_mode": {
    "name": "ipython",
    "version": 3
   },
   "file_extension": ".py",
   "mimetype": "text/x-python",
   "name": "python",
   "nbconvert_exporter": "python",
   "pygments_lexer": "ipython3",
   "version": "3.11.5"
  }
 },
 "nbformat": 4,
 "nbformat_minor": 5
}
